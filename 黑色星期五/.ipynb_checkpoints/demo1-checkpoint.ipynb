{
 "cells": [
  {
   "cell_type": "code",
   "execution_count": 1,
   "metadata": {},
   "outputs": [],
   "source": [
    "import pandas as pd\n",
    "import matplotlib.pyplot as plt\n",
    "import seaborn as sns\n",
    "import numpy as np"
   ]
  },
  {
   "cell_type": "code",
   "execution_count": 2,
   "metadata": {},
   "outputs": [
    {
     "name": "stdout",
     "output_type": "stream",
     "text": [
      "<class 'pandas.core.frame.DataFrame'>\n",
      "RangeIndex: 537577 entries, 0 to 537576\n",
      "Data columns (total 12 columns):\n",
      " #   Column                      Non-Null Count   Dtype  \n",
      "---  ------                      --------------   -----  \n",
      " 0   User_ID                     537577 non-null  int64  \n",
      " 1   Product_ID                  537577 non-null  object \n",
      " 2   Gender                      537577 non-null  object \n",
      " 3   Age                         537577 non-null  object \n",
      " 4   Occupation                  537577 non-null  int64  \n",
      " 5   City_Category               537577 non-null  object \n",
      " 6   Stay_In_Current_City_Years  537577 non-null  object \n",
      " 7   Marital_Status              537577 non-null  int64  \n",
      " 8   Product_Category_1          537577 non-null  int64  \n",
      " 9   Product_Category_2          370591 non-null  float64\n",
      " 10  Product_Category_3          164278 non-null  float64\n",
      " 11  Purchase                    537577 non-null  int64  \n",
      "dtypes: float64(2), int64(5), object(5)\n",
      "memory usage: 49.2+ MB\n"
     ]
    }
   ],
   "source": [
    "# 导入数据\n",
    "bf = pd.read_csv(\"BlackFriday.csv\", header = 'infer')\n",
    "bf.info()"
   ]
  },
  {
   "cell_type": "code",
   "execution_count": 3,
   "metadata": {},
   "outputs": [
    {
     "data": {
      "text/html": [
       "<div>\n",
       "<style scoped>\n",
       "    .dataframe tbody tr th:only-of-type {\n",
       "        vertical-align: middle;\n",
       "    }\n",
       "\n",
       "    .dataframe tbody tr th {\n",
       "        vertical-align: top;\n",
       "    }\n",
       "\n",
       "    .dataframe thead th {\n",
       "        text-align: right;\n",
       "    }\n",
       "</style>\n",
       "<table border=\"1\" class=\"dataframe\">\n",
       "  <thead>\n",
       "    <tr style=\"text-align: right;\">\n",
       "      <th></th>\n",
       "      <th>User_ID</th>\n",
       "      <th>Product_ID</th>\n",
       "      <th>Gender</th>\n",
       "      <th>Age</th>\n",
       "      <th>Occupation</th>\n",
       "      <th>City_Category</th>\n",
       "      <th>Stay_In_Current_City_Years</th>\n",
       "      <th>Marital_Status</th>\n",
       "      <th>Product_Category_1</th>\n",
       "      <th>Product_Category_2</th>\n",
       "      <th>Product_Category_3</th>\n",
       "      <th>Purchase</th>\n",
       "    </tr>\n",
       "  </thead>\n",
       "  <tbody>\n",
       "    <tr>\n",
       "      <th>0</th>\n",
       "      <td>1000001</td>\n",
       "      <td>P00069042</td>\n",
       "      <td>F</td>\n",
       "      <td>0-17</td>\n",
       "      <td>10</td>\n",
       "      <td>A</td>\n",
       "      <td>2</td>\n",
       "      <td>0</td>\n",
       "      <td>3</td>\n",
       "      <td>NaN</td>\n",
       "      <td>NaN</td>\n",
       "      <td>8370</td>\n",
       "    </tr>\n",
       "    <tr>\n",
       "      <th>1</th>\n",
       "      <td>1000001</td>\n",
       "      <td>P00248942</td>\n",
       "      <td>F</td>\n",
       "      <td>0-17</td>\n",
       "      <td>10</td>\n",
       "      <td>A</td>\n",
       "      <td>2</td>\n",
       "      <td>0</td>\n",
       "      <td>1</td>\n",
       "      <td>6.0</td>\n",
       "      <td>14.0</td>\n",
       "      <td>15200</td>\n",
       "    </tr>\n",
       "    <tr>\n",
       "      <th>2</th>\n",
       "      <td>1000001</td>\n",
       "      <td>P00087842</td>\n",
       "      <td>F</td>\n",
       "      <td>0-17</td>\n",
       "      <td>10</td>\n",
       "      <td>A</td>\n",
       "      <td>2</td>\n",
       "      <td>0</td>\n",
       "      <td>12</td>\n",
       "      <td>NaN</td>\n",
       "      <td>NaN</td>\n",
       "      <td>1422</td>\n",
       "    </tr>\n",
       "    <tr>\n",
       "      <th>3</th>\n",
       "      <td>1000001</td>\n",
       "      <td>P00085442</td>\n",
       "      <td>F</td>\n",
       "      <td>0-17</td>\n",
       "      <td>10</td>\n",
       "      <td>A</td>\n",
       "      <td>2</td>\n",
       "      <td>0</td>\n",
       "      <td>12</td>\n",
       "      <td>14.0</td>\n",
       "      <td>NaN</td>\n",
       "      <td>1057</td>\n",
       "    </tr>\n",
       "    <tr>\n",
       "      <th>4</th>\n",
       "      <td>1000002</td>\n",
       "      <td>P00285442</td>\n",
       "      <td>M</td>\n",
       "      <td>55+</td>\n",
       "      <td>16</td>\n",
       "      <td>C</td>\n",
       "      <td>4+</td>\n",
       "      <td>0</td>\n",
       "      <td>8</td>\n",
       "      <td>NaN</td>\n",
       "      <td>NaN</td>\n",
       "      <td>7969</td>\n",
       "    </tr>\n",
       "    <tr>\n",
       "      <th>5</th>\n",
       "      <td>1000003</td>\n",
       "      <td>P00193542</td>\n",
       "      <td>M</td>\n",
       "      <td>26-35</td>\n",
       "      <td>15</td>\n",
       "      <td>A</td>\n",
       "      <td>3</td>\n",
       "      <td>0</td>\n",
       "      <td>1</td>\n",
       "      <td>2.0</td>\n",
       "      <td>NaN</td>\n",
       "      <td>15227</td>\n",
       "    </tr>\n",
       "    <tr>\n",
       "      <th>6</th>\n",
       "      <td>1000004</td>\n",
       "      <td>P00184942</td>\n",
       "      <td>M</td>\n",
       "      <td>46-50</td>\n",
       "      <td>7</td>\n",
       "      <td>B</td>\n",
       "      <td>2</td>\n",
       "      <td>1</td>\n",
       "      <td>1</td>\n",
       "      <td>8.0</td>\n",
       "      <td>17.0</td>\n",
       "      <td>19215</td>\n",
       "    </tr>\n",
       "    <tr>\n",
       "      <th>7</th>\n",
       "      <td>1000004</td>\n",
       "      <td>P00346142</td>\n",
       "      <td>M</td>\n",
       "      <td>46-50</td>\n",
       "      <td>7</td>\n",
       "      <td>B</td>\n",
       "      <td>2</td>\n",
       "      <td>1</td>\n",
       "      <td>1</td>\n",
       "      <td>15.0</td>\n",
       "      <td>NaN</td>\n",
       "      <td>15854</td>\n",
       "    </tr>\n",
       "    <tr>\n",
       "      <th>8</th>\n",
       "      <td>1000004</td>\n",
       "      <td>P0097242</td>\n",
       "      <td>M</td>\n",
       "      <td>46-50</td>\n",
       "      <td>7</td>\n",
       "      <td>B</td>\n",
       "      <td>2</td>\n",
       "      <td>1</td>\n",
       "      <td>1</td>\n",
       "      <td>16.0</td>\n",
       "      <td>NaN</td>\n",
       "      <td>15686</td>\n",
       "    </tr>\n",
       "    <tr>\n",
       "      <th>9</th>\n",
       "      <td>1000005</td>\n",
       "      <td>P00274942</td>\n",
       "      <td>M</td>\n",
       "      <td>26-35</td>\n",
       "      <td>20</td>\n",
       "      <td>A</td>\n",
       "      <td>1</td>\n",
       "      <td>1</td>\n",
       "      <td>8</td>\n",
       "      <td>NaN</td>\n",
       "      <td>NaN</td>\n",
       "      <td>7871</td>\n",
       "    </tr>\n",
       "  </tbody>\n",
       "</table>\n",
       "</div>"
      ],
      "text/plain": [
       "   User_ID Product_ID Gender    Age  Occupation City_Category  \\\n",
       "0  1000001  P00069042      F   0-17          10             A   \n",
       "1  1000001  P00248942      F   0-17          10             A   \n",
       "2  1000001  P00087842      F   0-17          10             A   \n",
       "3  1000001  P00085442      F   0-17          10             A   \n",
       "4  1000002  P00285442      M    55+          16             C   \n",
       "5  1000003  P00193542      M  26-35          15             A   \n",
       "6  1000004  P00184942      M  46-50           7             B   \n",
       "7  1000004  P00346142      M  46-50           7             B   \n",
       "8  1000004   P0097242      M  46-50           7             B   \n",
       "9  1000005  P00274942      M  26-35          20             A   \n",
       "\n",
       "  Stay_In_Current_City_Years  Marital_Status  Product_Category_1  \\\n",
       "0                          2               0                   3   \n",
       "1                          2               0                   1   \n",
       "2                          2               0                  12   \n",
       "3                          2               0                  12   \n",
       "4                         4+               0                   8   \n",
       "5                          3               0                   1   \n",
       "6                          2               1                   1   \n",
       "7                          2               1                   1   \n",
       "8                          2               1                   1   \n",
       "9                          1               1                   8   \n",
       "\n",
       "   Product_Category_2  Product_Category_3  Purchase  \n",
       "0                 NaN                 NaN      8370  \n",
       "1                 6.0                14.0     15200  \n",
       "2                 NaN                 NaN      1422  \n",
       "3                14.0                 NaN      1057  \n",
       "4                 NaN                 NaN      7969  \n",
       "5                 2.0                 NaN     15227  \n",
       "6                 8.0                17.0     19215  \n",
       "7                15.0                 NaN     15854  \n",
       "8                16.0                 NaN     15686  \n",
       "9                 NaN                 NaN      7871  "
      ]
     },
     "execution_count": 3,
     "metadata": {},
     "output_type": "execute_result"
    }
   ],
   "source": [
    "bf.head(10)"
   ]
  },
  {
   "cell_type": "markdown",
   "metadata": {},
   "source": [
    "# 2.数据预处理"
   ]
  },
  {
   "cell_type": "code",
   "execution_count": 4,
   "metadata": {},
   "outputs": [
    {
     "data": {
      "text/plain": [
       "User_ID                       False\n",
       "Product_ID                    False\n",
       "Gender                        False\n",
       "Age                           False\n",
       "Occupation                    False\n",
       "City_Category                 False\n",
       "Stay_In_Current_City_Years    False\n",
       "Marital_Status                False\n",
       "Product_Category_1            False\n",
       "Product_Category_2             True\n",
       "Product_Category_3             True\n",
       "Purchase                      False\n",
       "dtype: bool"
      ]
     },
     "execution_count": 4,
     "metadata": {},
     "output_type": "execute_result"
    }
   ],
   "source": [
    "##处理缺失值\n",
    "bf.isna().any()"
   ]
  },
  {
   "cell_type": "code",
   "execution_count": 5,
   "metadata": {},
   "outputs": [
    {
     "data": {
      "text/html": [
       "<div>\n",
       "<style scoped>\n",
       "    .dataframe tbody tr th:only-of-type {\n",
       "        vertical-align: middle;\n",
       "    }\n",
       "\n",
       "    .dataframe tbody tr th {\n",
       "        vertical-align: top;\n",
       "    }\n",
       "\n",
       "    .dataframe thead th {\n",
       "        text-align: right;\n",
       "    }\n",
       "</style>\n",
       "<table border=\"1\" class=\"dataframe\">\n",
       "  <thead>\n",
       "    <tr style=\"text-align: right;\">\n",
       "      <th></th>\n",
       "      <th>User_ID</th>\n",
       "      <th>Product_ID</th>\n",
       "      <th>Gender</th>\n",
       "      <th>Age</th>\n",
       "      <th>Occupation</th>\n",
       "      <th>City_Category</th>\n",
       "      <th>Stay_In_Current_City_Years</th>\n",
       "      <th>Marital_Status</th>\n",
       "      <th>Product_Category_1</th>\n",
       "      <th>Product_Category_2</th>\n",
       "      <th>Product_Category_3</th>\n",
       "      <th>Purchase</th>\n",
       "    </tr>\n",
       "  </thead>\n",
       "  <tbody>\n",
       "    <tr>\n",
       "      <th>0</th>\n",
       "      <td>False</td>\n",
       "      <td>False</td>\n",
       "      <td>False</td>\n",
       "      <td>False</td>\n",
       "      <td>False</td>\n",
       "      <td>False</td>\n",
       "      <td>False</td>\n",
       "      <td>False</td>\n",
       "      <td>False</td>\n",
       "      <td>True</td>\n",
       "      <td>True</td>\n",
       "      <td>False</td>\n",
       "    </tr>\n",
       "    <tr>\n",
       "      <th>1</th>\n",
       "      <td>False</td>\n",
       "      <td>False</td>\n",
       "      <td>False</td>\n",
       "      <td>False</td>\n",
       "      <td>False</td>\n",
       "      <td>False</td>\n",
       "      <td>False</td>\n",
       "      <td>False</td>\n",
       "      <td>False</td>\n",
       "      <td>False</td>\n",
       "      <td>False</td>\n",
       "      <td>False</td>\n",
       "    </tr>\n",
       "    <tr>\n",
       "      <th>2</th>\n",
       "      <td>False</td>\n",
       "      <td>False</td>\n",
       "      <td>False</td>\n",
       "      <td>False</td>\n",
       "      <td>False</td>\n",
       "      <td>False</td>\n",
       "      <td>False</td>\n",
       "      <td>False</td>\n",
       "      <td>False</td>\n",
       "      <td>True</td>\n",
       "      <td>True</td>\n",
       "      <td>False</td>\n",
       "    </tr>\n",
       "    <tr>\n",
       "      <th>3</th>\n",
       "      <td>False</td>\n",
       "      <td>False</td>\n",
       "      <td>False</td>\n",
       "      <td>False</td>\n",
       "      <td>False</td>\n",
       "      <td>False</td>\n",
       "      <td>False</td>\n",
       "      <td>False</td>\n",
       "      <td>False</td>\n",
       "      <td>False</td>\n",
       "      <td>True</td>\n",
       "      <td>False</td>\n",
       "    </tr>\n",
       "    <tr>\n",
       "      <th>4</th>\n",
       "      <td>False</td>\n",
       "      <td>False</td>\n",
       "      <td>False</td>\n",
       "      <td>False</td>\n",
       "      <td>False</td>\n",
       "      <td>False</td>\n",
       "      <td>False</td>\n",
       "      <td>False</td>\n",
       "      <td>False</td>\n",
       "      <td>True</td>\n",
       "      <td>True</td>\n",
       "      <td>False</td>\n",
       "    </tr>\n",
       "    <tr>\n",
       "      <th>...</th>\n",
       "      <td>...</td>\n",
       "      <td>...</td>\n",
       "      <td>...</td>\n",
       "      <td>...</td>\n",
       "      <td>...</td>\n",
       "      <td>...</td>\n",
       "      <td>...</td>\n",
       "      <td>...</td>\n",
       "      <td>...</td>\n",
       "      <td>...</td>\n",
       "      <td>...</td>\n",
       "      <td>...</td>\n",
       "    </tr>\n",
       "    <tr>\n",
       "      <th>537572</th>\n",
       "      <td>False</td>\n",
       "      <td>False</td>\n",
       "      <td>False</td>\n",
       "      <td>False</td>\n",
       "      <td>False</td>\n",
       "      <td>False</td>\n",
       "      <td>False</td>\n",
       "      <td>False</td>\n",
       "      <td>False</td>\n",
       "      <td>False</td>\n",
       "      <td>True</td>\n",
       "      <td>False</td>\n",
       "    </tr>\n",
       "    <tr>\n",
       "      <th>537573</th>\n",
       "      <td>False</td>\n",
       "      <td>False</td>\n",
       "      <td>False</td>\n",
       "      <td>False</td>\n",
       "      <td>False</td>\n",
       "      <td>False</td>\n",
       "      <td>False</td>\n",
       "      <td>False</td>\n",
       "      <td>False</td>\n",
       "      <td>False</td>\n",
       "      <td>False</td>\n",
       "      <td>False</td>\n",
       "    </tr>\n",
       "    <tr>\n",
       "      <th>537574</th>\n",
       "      <td>False</td>\n",
       "      <td>False</td>\n",
       "      <td>False</td>\n",
       "      <td>False</td>\n",
       "      <td>False</td>\n",
       "      <td>False</td>\n",
       "      <td>False</td>\n",
       "      <td>False</td>\n",
       "      <td>False</td>\n",
       "      <td>False</td>\n",
       "      <td>True</td>\n",
       "      <td>False</td>\n",
       "    </tr>\n",
       "    <tr>\n",
       "      <th>537575</th>\n",
       "      <td>False</td>\n",
       "      <td>False</td>\n",
       "      <td>False</td>\n",
       "      <td>False</td>\n",
       "      <td>False</td>\n",
       "      <td>False</td>\n",
       "      <td>False</td>\n",
       "      <td>False</td>\n",
       "      <td>False</td>\n",
       "      <td>True</td>\n",
       "      <td>True</td>\n",
       "      <td>False</td>\n",
       "    </tr>\n",
       "    <tr>\n",
       "      <th>537576</th>\n",
       "      <td>False</td>\n",
       "      <td>False</td>\n",
       "      <td>False</td>\n",
       "      <td>False</td>\n",
       "      <td>False</td>\n",
       "      <td>False</td>\n",
       "      <td>False</td>\n",
       "      <td>False</td>\n",
       "      <td>False</td>\n",
       "      <td>False</td>\n",
       "      <td>True</td>\n",
       "      <td>False</td>\n",
       "    </tr>\n",
       "  </tbody>\n",
       "</table>\n",
       "<p>537577 rows × 12 columns</p>\n",
       "</div>"
      ],
      "text/plain": [
       "        User_ID  Product_ID  Gender    Age  Occupation  City_Category  \\\n",
       "0         False       False   False  False       False          False   \n",
       "1         False       False   False  False       False          False   \n",
       "2         False       False   False  False       False          False   \n",
       "3         False       False   False  False       False          False   \n",
       "4         False       False   False  False       False          False   \n",
       "...         ...         ...     ...    ...         ...            ...   \n",
       "537572    False       False   False  False       False          False   \n",
       "537573    False       False   False  False       False          False   \n",
       "537574    False       False   False  False       False          False   \n",
       "537575    False       False   False  False       False          False   \n",
       "537576    False       False   False  False       False          False   \n",
       "\n",
       "        Stay_In_Current_City_Years  Marital_Status  Product_Category_1  \\\n",
       "0                            False           False               False   \n",
       "1                            False           False               False   \n",
       "2                            False           False               False   \n",
       "3                            False           False               False   \n",
       "4                            False           False               False   \n",
       "...                            ...             ...                 ...   \n",
       "537572                       False           False               False   \n",
       "537573                       False           False               False   \n",
       "537574                       False           False               False   \n",
       "537575                       False           False               False   \n",
       "537576                       False           False               False   \n",
       "\n",
       "        Product_Category_2  Product_Category_3  Purchase  \n",
       "0                     True                True     False  \n",
       "1                    False               False     False  \n",
       "2                     True                True     False  \n",
       "3                    False                True     False  \n",
       "4                     True                True     False  \n",
       "...                    ...                 ...       ...  \n",
       "537572               False                True     False  \n",
       "537573               False               False     False  \n",
       "537574               False                True     False  \n",
       "537575                True                True     False  \n",
       "537576               False                True     False  \n",
       "\n",
       "[537577 rows x 12 columns]"
      ]
     },
     "execution_count": 5,
     "metadata": {},
     "output_type": "execute_result"
    }
   ],
   "source": [
    "bf.isnull()#生成的是所有数据的true／false矩阵"
   ]
  },
  {
   "cell_type": "code",
   "execution_count": 6,
   "metadata": {},
   "outputs": [
    {
     "data": {
      "text/plain": [
       "User_ID                            0\n",
       "Product_ID                         0\n",
       "Gender                             0\n",
       "Age                                0\n",
       "Occupation                         0\n",
       "City_Category                      0\n",
       "Stay_In_Current_City_Years         0\n",
       "Marital_Status                     0\n",
       "Product_Category_1                 0\n",
       "Product_Category_2            166986\n",
       "Product_Category_3            373299\n",
       "Purchase                           0\n",
       "dtype: int64"
      ]
     },
     "execution_count": 6,
     "metadata": {},
     "output_type": "execute_result"
    }
   ],
   "source": [
    "bf.isnull().sum()"
   ]
  },
  {
   "cell_type": "code",
   "execution_count": 7,
   "metadata": {},
   "outputs": [
    {
     "data": {
      "text/plain": [
       "(537577, 12)"
      ]
     },
     "execution_count": 7,
     "metadata": {},
     "output_type": "execute_result"
    }
   ],
   "source": [
    "bf.shape"
   ]
  },
  {
   "cell_type": "code",
   "execution_count": 9,
   "metadata": {},
   "outputs": [
    {
     "data": {
      "text/plain": [
       "Product_Category_3    69.44\n",
       "Product_Category_2    31.06\n",
       "dtype: float64"
      ]
     },
     "execution_count": 9,
     "metadata": {},
     "output_type": "execute_result"
    }
   ],
   "source": [
    "#计算缺失值的比率：\n",
    "missing_percentage = (bf.isnull().sum()/bf.shape[0]*100).sort_values(ascending=False)\n",
    "missing_percentage = missing_percentage[missing_percentage!=0].round(2)\n",
    "missing_percentage"
   ]
  },
  {
   "cell_type": "code",
   "execution_count": 11,
   "metadata": {},
   "outputs": [
    {
     "data": {
      "text/plain": [
       "0"
      ]
     },
     "execution_count": 11,
     "metadata": {},
     "output_type": "execute_result"
    }
   ],
   "source": [
    "#缺失值使用 0 填充\n",
    "bf.fillna(0,inplace=True)\n",
    "bf.isna().any().sum()"
   ]
  },
  {
   "cell_type": "code",
   "execution_count": null,
   "metadata": {},
   "outputs": [],
   "source": [
    "#缺失值处理完毕"
   ]
  },
  {
   "cell_type": "markdown",
   "metadata": {},
   "source": [
    "# 3.初步探索数据"
   ]
  },
  {
   "cell_type": "code",
   "execution_count": 12,
   "metadata": {},
   "outputs": [],
   "source": [
    "# 哪些人群更可能在黑色星期五购买更多?\n",
    "# Q1 性别：男性或女性 + Q4 婚姻状况: 结婚或者结婚  双重pie\n",
    "# Q2 年龄：哪个年龄段 bar\n",
    "# Q3 职业 pie\n",
    "# Q5 居住时间：新居民或老居民 bar\n",
    "# Q6 城市 pie"
   ]
  },
  {
   "cell_type": "code",
   "execution_count": 13,
   "metadata": {},
   "outputs": [],
   "source": [
    "#3.1 查看各数据项的取值\n",
    "#type(bf)\n",
    "def data_type(bf):\n",
    "    for i in bf.columns:\n",
    "        print(i,\"------>>\",bf[i].unique())"
   ]
  },
  {
   "cell_type": "code",
   "execution_count": 14,
   "metadata": {},
   "outputs": [
    {
     "name": "stdout",
     "output_type": "stream",
     "text": [
      "User_ID ------>> [1000001 1000002 1000003 ... 1004113 1005391 1001529]\n",
      "Product_ID ------>> ['P00069042' 'P00248942' 'P00087842' ... 'P00038842' 'P00295642'\n",
      " 'P00091742']\n",
      "Gender ------>> ['F' 'M']\n",
      "Age ------>> ['0-17' '55+' '26-35' '46-50' '51-55' '36-45' '18-25']\n",
      "Occupation ------>> [10 16 15  7 20  9  1 12 17  0  3  4 11  8 19  2 18  5 14 13  6]\n",
      "City_Category ------>> ['A' 'C' 'B']\n",
      "Stay_In_Current_City_Years ------>> ['2' '4+' '3' '1' '0']\n",
      "Marital_Status ------>> [0 1]\n",
      "Product_Category_1 ------>> [ 3  1 12  8  5  4  2  6 14 11 13 15  7 16 18 10 17  9]\n",
      "Product_Category_2 ------>> [ 0.  6. 14.  2.  8. 15. 16. 11.  5.  3.  4. 12.  9. 10. 17. 13.  7. 18.]\n",
      "Product_Category_3 ------>> [ 0. 14. 17.  5.  4. 16. 15.  8.  9. 13.  6. 12.  3. 18. 11. 10.]\n",
      "Purchase ------>> [ 8370 15200  1422 ... 14539 11120 18426]\n"
     ]
    }
   ],
   "source": [
    "data_type(bf)"
   ]
  },
  {
   "cell_type": "code",
   "execution_count": null,
   "metadata": {},
   "outputs": [],
   "source": [
    "# 3.2 性别和婚姻状况\n",
    "## 初步探索数据\n",
    "# 哪些人群更可能在黑色星期五购买更多?\n",
    "#Q1 性别：男性或女性+#Q4 婚姻状况: 结婚或者结婚  双重pie"
   ]
  },
  {
   "cell_type": "code",
   "execution_count": 17,
   "metadata": {},
   "outputs": [
    {
     "data": {
      "text/plain": [
       "<pandas.core.groupby.generic.DataFrameGroupBy object at 0x00000000055BFDC8>"
      ]
     },
     "execution_count": 17,
     "metadata": {},
     "output_type": "execute_result"
    }
   ],
   "source": [
    "bf.groupby(['Gender','Marital_Status'])"
   ]
  },
  {
   "cell_type": "code",
   "execution_count": 18,
   "metadata": {},
   "outputs": [
    {
     "data": {
      "text/html": [
       "<div>\n",
       "<style scoped>\n",
       "    .dataframe tbody tr th:only-of-type {\n",
       "        vertical-align: middle;\n",
       "    }\n",
       "\n",
       "    .dataframe tbody tr th {\n",
       "        vertical-align: top;\n",
       "    }\n",
       "\n",
       "    .dataframe thead th {\n",
       "        text-align: right;\n",
       "    }\n",
       "</style>\n",
       "<table border=\"1\" class=\"dataframe\">\n",
       "  <thead>\n",
       "    <tr style=\"text-align: right;\">\n",
       "      <th></th>\n",
       "      <th></th>\n",
       "      <th>User_ID</th>\n",
       "      <th>Product_ID</th>\n",
       "      <th>Age</th>\n",
       "      <th>Occupation</th>\n",
       "      <th>City_Category</th>\n",
       "      <th>Stay_In_Current_City_Years</th>\n",
       "      <th>Product_Category_1</th>\n",
       "      <th>Product_Category_2</th>\n",
       "      <th>Product_Category_3</th>\n",
       "      <th>Purchase</th>\n",
       "    </tr>\n",
       "    <tr>\n",
       "      <th>Gender</th>\n",
       "      <th>Marital_Status</th>\n",
       "      <th></th>\n",
       "      <th></th>\n",
       "      <th></th>\n",
       "      <th></th>\n",
       "      <th></th>\n",
       "      <th></th>\n",
       "      <th></th>\n",
       "      <th></th>\n",
       "      <th></th>\n",
       "      <th></th>\n",
       "    </tr>\n",
       "  </thead>\n",
       "  <tbody>\n",
       "    <tr>\n",
       "      <th rowspan=\"2\" valign=\"top\">F</th>\n",
       "      <th>0</th>\n",
       "      <td>76974</td>\n",
       "      <td>76974</td>\n",
       "      <td>76974</td>\n",
       "      <td>76974</td>\n",
       "      <td>76974</td>\n",
       "      <td>76974</td>\n",
       "      <td>76974</td>\n",
       "      <td>76974</td>\n",
       "      <td>76974</td>\n",
       "      <td>76974</td>\n",
       "    </tr>\n",
       "    <tr>\n",
       "      <th>1</th>\n",
       "      <td>55223</td>\n",
       "      <td>55223</td>\n",
       "      <td>55223</td>\n",
       "      <td>55223</td>\n",
       "      <td>55223</td>\n",
       "      <td>55223</td>\n",
       "      <td>55223</td>\n",
       "      <td>55223</td>\n",
       "      <td>55223</td>\n",
       "      <td>55223</td>\n",
       "    </tr>\n",
       "    <tr>\n",
       "      <th rowspan=\"2\" valign=\"top\">M</th>\n",
       "      <th>0</th>\n",
       "      <td>240843</td>\n",
       "      <td>240843</td>\n",
       "      <td>240843</td>\n",
       "      <td>240843</td>\n",
       "      <td>240843</td>\n",
       "      <td>240843</td>\n",
       "      <td>240843</td>\n",
       "      <td>240843</td>\n",
       "      <td>240843</td>\n",
       "      <td>240843</td>\n",
       "    </tr>\n",
       "    <tr>\n",
       "      <th>1</th>\n",
       "      <td>164537</td>\n",
       "      <td>164537</td>\n",
       "      <td>164537</td>\n",
       "      <td>164537</td>\n",
       "      <td>164537</td>\n",
       "      <td>164537</td>\n",
       "      <td>164537</td>\n",
       "      <td>164537</td>\n",
       "      <td>164537</td>\n",
       "      <td>164537</td>\n",
       "    </tr>\n",
       "  </tbody>\n",
       "</table>\n",
       "</div>"
      ],
      "text/plain": [
       "                       User_ID  Product_ID     Age  Occupation  City_Category  \\\n",
       "Gender Marital_Status                                                           \n",
       "F      0                 76974       76974   76974       76974          76974   \n",
       "       1                 55223       55223   55223       55223          55223   \n",
       "M      0                240843      240843  240843      240843         240843   \n",
       "       1                164537      164537  164537      164537         164537   \n",
       "\n",
       "                       Stay_In_Current_City_Years  Product_Category_1  \\\n",
       "Gender Marital_Status                                                   \n",
       "F      0                                    76974               76974   \n",
       "       1                                    55223               55223   \n",
       "M      0                                   240843              240843   \n",
       "       1                                   164537              164537   \n",
       "\n",
       "                       Product_Category_2  Product_Category_3  Purchase  \n",
       "Gender Marital_Status                                                    \n",
       "F      0                            76974               76974     76974  \n",
       "       1                            55223               55223     55223  \n",
       "M      0                           240843              240843    240843  \n",
       "       1                           164537              164537    164537  "
      ]
     },
     "execution_count": 18,
     "metadata": {},
     "output_type": "execute_result"
    }
   ],
   "source": [
    "bf.groupby(['Gender','Marital_Status']).count()"
   ]
  },
  {
   "cell_type": "code",
   "execution_count": 19,
   "metadata": {},
   "outputs": [
    {
     "data": {
      "text/html": [
       "<div>\n",
       "<style scoped>\n",
       "    .dataframe tbody tr th:only-of-type {\n",
       "        vertical-align: middle;\n",
       "    }\n",
       "\n",
       "    .dataframe tbody tr th {\n",
       "        vertical-align: top;\n",
       "    }\n",
       "\n",
       "    .dataframe thead th {\n",
       "        text-align: right;\n",
       "    }\n",
       "</style>\n",
       "<table border=\"1\" class=\"dataframe\">\n",
       "  <thead>\n",
       "    <tr style=\"text-align: right;\">\n",
       "      <th></th>\n",
       "      <th>Marital_Status</th>\n",
       "      <th>User_ID</th>\n",
       "      <th>Product_ID</th>\n",
       "      <th>Age</th>\n",
       "      <th>Occupation</th>\n",
       "      <th>City_Category</th>\n",
       "      <th>Stay_In_Current_City_Years</th>\n",
       "      <th>Product_Category_1</th>\n",
       "      <th>Product_Category_2</th>\n",
       "      <th>Product_Category_3</th>\n",
       "      <th>Purchase</th>\n",
       "    </tr>\n",
       "    <tr>\n",
       "      <th>Gender</th>\n",
       "      <th></th>\n",
       "      <th></th>\n",
       "      <th></th>\n",
       "      <th></th>\n",
       "      <th></th>\n",
       "      <th></th>\n",
       "      <th></th>\n",
       "      <th></th>\n",
       "      <th></th>\n",
       "      <th></th>\n",
       "      <th></th>\n",
       "    </tr>\n",
       "  </thead>\n",
       "  <tbody>\n",
       "    <tr>\n",
       "      <th>F</th>\n",
       "      <td>0</td>\n",
       "      <td>76974</td>\n",
       "      <td>76974</td>\n",
       "      <td>76974</td>\n",
       "      <td>76974</td>\n",
       "      <td>76974</td>\n",
       "      <td>76974</td>\n",
       "      <td>76974</td>\n",
       "      <td>76974</td>\n",
       "      <td>76974</td>\n",
       "      <td>76974</td>\n",
       "    </tr>\n",
       "    <tr>\n",
       "      <th>F</th>\n",
       "      <td>1</td>\n",
       "      <td>55223</td>\n",
       "      <td>55223</td>\n",
       "      <td>55223</td>\n",
       "      <td>55223</td>\n",
       "      <td>55223</td>\n",
       "      <td>55223</td>\n",
       "      <td>55223</td>\n",
       "      <td>55223</td>\n",
       "      <td>55223</td>\n",
       "      <td>55223</td>\n",
       "    </tr>\n",
       "    <tr>\n",
       "      <th>M</th>\n",
       "      <td>0</td>\n",
       "      <td>240843</td>\n",
       "      <td>240843</td>\n",
       "      <td>240843</td>\n",
       "      <td>240843</td>\n",
       "      <td>240843</td>\n",
       "      <td>240843</td>\n",
       "      <td>240843</td>\n",
       "      <td>240843</td>\n",
       "      <td>240843</td>\n",
       "      <td>240843</td>\n",
       "    </tr>\n",
       "    <tr>\n",
       "      <th>M</th>\n",
       "      <td>1</td>\n",
       "      <td>164537</td>\n",
       "      <td>164537</td>\n",
       "      <td>164537</td>\n",
       "      <td>164537</td>\n",
       "      <td>164537</td>\n",
       "      <td>164537</td>\n",
       "      <td>164537</td>\n",
       "      <td>164537</td>\n",
       "      <td>164537</td>\n",
       "      <td>164537</td>\n",
       "    </tr>\n",
       "  </tbody>\n",
       "</table>\n",
       "</div>"
      ],
      "text/plain": [
       "        Marital_Status  User_ID  Product_ID     Age  Occupation  \\\n",
       "Gender                                                            \n",
       "F                    0    76974       76974   76974       76974   \n",
       "F                    1    55223       55223   55223       55223   \n",
       "M                    0   240843      240843  240843      240843   \n",
       "M                    1   164537      164537  164537      164537   \n",
       "\n",
       "        City_Category  Stay_In_Current_City_Years  Product_Category_1  \\\n",
       "Gender                                                                  \n",
       "F               76974                       76974               76974   \n",
       "F               55223                       55223               55223   \n",
       "M              240843                      240843              240843   \n",
       "M              164537                      164537              164537   \n",
       "\n",
       "        Product_Category_2  Product_Category_3  Purchase  \n",
       "Gender                                                    \n",
       "F                    76974               76974     76974  \n",
       "F                    55223               55223     55223  \n",
       "M                   240843              240843    240843  \n",
       "M                   164537              164537    164537  "
      ]
     },
     "execution_count": 19,
     "metadata": {},
     "output_type": "execute_result"
    }
   ],
   "source": [
    "bf.groupby(['Gender','Marital_Status']).count().reset_index('Marital_Status')"
   ]
  },
  {
   "cell_type": "code",
   "execution_count": 20,
   "metadata": {},
   "outputs": [
    {
     "data": {
      "text/plain": [
       "<pandas.core.groupby.generic.DataFrameGroupBy object at 0x00000000055BFA08>"
      ]
     },
     "execution_count": 20,
     "metadata": {},
     "output_type": "execute_result"
    }
   ],
   "source": [
    "bf.groupby(['Gender'])"
   ]
  },
  {
   "cell_type": "code",
   "execution_count": 21,
   "metadata": {},
   "outputs": [
    {
     "data": {
      "text/html": [
       "<div>\n",
       "<style scoped>\n",
       "    .dataframe tbody tr th:only-of-type {\n",
       "        vertical-align: middle;\n",
       "    }\n",
       "\n",
       "    .dataframe tbody tr th {\n",
       "        vertical-align: top;\n",
       "    }\n",
       "\n",
       "    .dataframe thead th {\n",
       "        text-align: right;\n",
       "    }\n",
       "</style>\n",
       "<table border=\"1\" class=\"dataframe\">\n",
       "  <thead>\n",
       "    <tr style=\"text-align: right;\">\n",
       "      <th></th>\n",
       "      <th>User_ID</th>\n",
       "      <th>Product_ID</th>\n",
       "      <th>Age</th>\n",
       "      <th>Occupation</th>\n",
       "      <th>City_Category</th>\n",
       "      <th>Stay_In_Current_City_Years</th>\n",
       "      <th>Marital_Status</th>\n",
       "      <th>Product_Category_1</th>\n",
       "      <th>Product_Category_2</th>\n",
       "      <th>Product_Category_3</th>\n",
       "      <th>Purchase</th>\n",
       "    </tr>\n",
       "    <tr>\n",
       "      <th>Gender</th>\n",
       "      <th></th>\n",
       "      <th></th>\n",
       "      <th></th>\n",
       "      <th></th>\n",
       "      <th></th>\n",
       "      <th></th>\n",
       "      <th></th>\n",
       "      <th></th>\n",
       "      <th></th>\n",
       "      <th></th>\n",
       "      <th></th>\n",
       "    </tr>\n",
       "  </thead>\n",
       "  <tbody>\n",
       "    <tr>\n",
       "      <th>F</th>\n",
       "      <td>132197</td>\n",
       "      <td>132197</td>\n",
       "      <td>132197</td>\n",
       "      <td>132197</td>\n",
       "      <td>132197</td>\n",
       "      <td>132197</td>\n",
       "      <td>132197</td>\n",
       "      <td>132197</td>\n",
       "      <td>132197</td>\n",
       "      <td>132197</td>\n",
       "      <td>132197</td>\n",
       "    </tr>\n",
       "    <tr>\n",
       "      <th>M</th>\n",
       "      <td>405380</td>\n",
       "      <td>405380</td>\n",
       "      <td>405380</td>\n",
       "      <td>405380</td>\n",
       "      <td>405380</td>\n",
       "      <td>405380</td>\n",
       "      <td>405380</td>\n",
       "      <td>405380</td>\n",
       "      <td>405380</td>\n",
       "      <td>405380</td>\n",
       "      <td>405380</td>\n",
       "    </tr>\n",
       "  </tbody>\n",
       "</table>\n",
       "</div>"
      ],
      "text/plain": [
       "        User_ID  Product_ID     Age  Occupation  City_Category  \\\n",
       "Gender                                                           \n",
       "F        132197      132197  132197      132197         132197   \n",
       "M        405380      405380  405380      405380         405380   \n",
       "\n",
       "        Stay_In_Current_City_Years  Marital_Status  Product_Category_1  \\\n",
       "Gender                                                                   \n",
       "F                           132197          132197              132197   \n",
       "M                           405380          405380              405380   \n",
       "\n",
       "        Product_Category_2  Product_Category_3  Purchase  \n",
       "Gender                                                    \n",
       "F                   132197              132197    132197  \n",
       "M                   405380              405380    405380  "
      ]
     },
     "execution_count": 21,
     "metadata": {},
     "output_type": "execute_result"
    }
   ],
   "source": [
    "bf.groupby(['Gender']).count()"
   ]
  },
  {
   "cell_type": "code",
   "execution_count": 22,
   "metadata": {},
   "outputs": [],
   "source": [
    "bf_gen_mar = bf.groupby(['Gender','Marital_Status']).count().reset_index('Marital_Status')\n",
    "bf_gen = bf.groupby(['Gender']).count()"
   ]
  },
  {
   "cell_type": "code",
   "execution_count": 24,
   "metadata": {},
   "outputs": [
    {
     "data": {
      "text/plain": [
       "Gender\n",
       "F     76974\n",
       "F     55223\n",
       "M    240843\n",
       "M    164537\n",
       "Name: Product_ID, dtype: int64"
      ]
     },
     "execution_count": 24,
     "metadata": {},
     "output_type": "execute_result"
    }
   ],
   "source": [
    "bf_gen_mar.iloc[:,2]"
   ]
  },
  {
   "cell_type": "code",
   "execution_count": 23,
   "metadata": {},
   "outputs": [
    {
     "data": {
      "text/plain": [
       "Text(0.5, 1, 'Gender & Marital_Status')"
      ]
     },
     "execution_count": 23,
     "metadata": {},
     "output_type": "execute_result"
    },
    {
     "data": {
      "image/png": "[encoded data removed]",
      "text/plain": [
       "<Figure size 648x432 with 1 Axes>"
      ]
     },
     "metadata": {},
     "output_type": "display_data"
    }
   ],
   "source": [
    "# Female_0,Female_1 中的 \"0\"代表未婚，\"1\"代表已婚\n",
    "plt.figure(figsize=(9,6))\n",
    "plt.pie(bf_gen_mar.iloc[:,2],radius=1,wedgeprops=dict(width=0.3,edgecolor='w'),colors=['cyan','lightskyblue','linen','y'],labels=['Female_0','Female_1','Male_0','Male_1'],autopct='%1.1f%%',pctdistance = 0.9)\n",
    "plt.pie(bf_gen.iloc[:,1],radius=0.7,wedgeprops=dict(width=0.3,edgecolor='w'),colors=['cyan','lightskyblue','linen','yellow'],labels=['Female','Male'],labeldistance = 0.6,autopct='%1.1f%%',pctdistance = 0.4)\n",
    "'''\n",
    "radius  :控制饼图半径，默认值为1；\n",
    "wedgeprops ：字典类型，可选参数，默认值：None。参数字典传递给wedge对象用来画一个饼图。例如：wedgeprops={'linewidth':3}设置wedge线宽为3;\n",
    "labeldistance :label标记的绘制位置,相对于半径的比例，默认值为1.1, 如<1则绘制在饼图内侧；\n",
    "autopct :控制饼图内百分比设置,可以使用format字符串或者format function, '%1.1f'指小数点前后位数(没有用空格补齐)；\n",
    "pctdistance :类似于labeldistance,指定autopct的位置刻度,默认值为0.6；\n",
    "'''\n",
    "plt.tight_layout()#自动调整子图参数，使之填充整个图像区域\n",
    "plt.legend()\n",
    "plt.axis('equal')#该行代码使饼图长宽相等\n",
    "plt.title('Gender & Marital_Status')"
   ]
  },
  {
   "cell_type": "code",
   "execution_count": 28,
   "metadata": {},
   "outputs": [
    {
     "data": {
      "text/plain": [
       "Text(0.5, 1, 'Gender & Marital_Status')"
      ]
     },
     "execution_count": 28,
     "metadata": {},
     "output_type": "execute_result"
    },
    {
     "data": {
      "image/png": "[encoded data removed]",
      "text/plain": [
       "<Figure size 648x432 with 1 Axes>"
      ]
     },
     "metadata": {},
     "output_type": "display_data"
    }
   ],
   "source": [
    "# Female_0,Female_1 中的 \"0\"代表未婚，\"1\"代表已婚\n",
    "plt.figure(figsize=(9,6))\n",
    "plt.pie(bf_gen_mar.iloc[:,2],radius=1,wedgeprops=dict(width=0.3,edgecolor='w'),colors=['wheat','bisque','orange','gold'],labels=['Female_0','Female_1','Male_0','Male_1'],autopct='%1.1f%%',pctdistance = 0.9)\n",
    "plt.pie(bf_gen.iloc[:,1],radius=0.7,wedgeprops=dict(width=0.3,edgecolor='w'),colors=['tan','darkorange','linen','yellow'],labels=['Female','Male'],labeldistance = 0.6,autopct='%1.1f%%',pctdistance = 0.4)\n",
    "'''\n",
    "radius  :控制饼图半径，默认值为1；\n",
    "wedgeprops ：字典类型，可选参数，默认值：None。参数字典传递给wedge对象用来画一个饼图。例如：wedgeprops={'linewidth':3}设置wedge线宽为3;\n",
    "labeldistance :label标记的绘制位置,相对于半径的比例，默认值为1.1, 如<1则绘制在饼图内侧；\n",
    "autopct :控制饼图内百分比设置,可以使用format字符串或者format function, '%1.1f'指小数点前后位数(没有用空格补齐)；\n",
    "pctdistance :类似于labeldistance,指定autopct的位置刻度,默认值为0.6；\n",
    "'''\n",
    "plt.tight_layout()#自动调整子图参数，使之填充整个图像区域\n",
    "plt.legend()\n",
    "plt.axis('equal')#该行代码使饼图长宽相等\n",
    "plt.title('Gender & Marital_Status')"
   ]
  },
  {
   "cell_type": "code",
   "execution_count": null,
   "metadata": {},
   "outputs": [],
   "source": [
    "# 可见，在黑色星期五的销量中，男性特别是未婚男性的购买次数最多。未婚的男女性购买次数相对于已婚都多。"
   ]
  },
  {
   "cell_type": "code",
   "execution_count": null,
   "metadata": {},
   "outputs": [],
   "source": [
    "# 3.3 年龄\n",
    "## 初步探索数据\n",
    "# 哪些人群更可能在黑色星期五购买更多?\n",
    "#Q2 年龄：哪个年龄段"
   ]
  },
  {
   "cell_type": "code",
   "execution_count": 29,
   "metadata": {},
   "outputs": [
    {
     "data": {
      "text/html": [
       "<div>\n",
       "<style scoped>\n",
       "    .dataframe tbody tr th:only-of-type {\n",
       "        vertical-align: middle;\n",
       "    }\n",
       "\n",
       "    .dataframe tbody tr th {\n",
       "        vertical-align: top;\n",
       "    }\n",
       "\n",
       "    .dataframe thead th {\n",
       "        text-align: right;\n",
       "    }\n",
       "</style>\n",
       "<table border=\"1\" class=\"dataframe\">\n",
       "  <thead>\n",
       "    <tr style=\"text-align: right;\">\n",
       "      <th></th>\n",
       "      <th>User_ID</th>\n",
       "      <th>Product_ID</th>\n",
       "      <th>Gender</th>\n",
       "      <th>Occupation</th>\n",
       "      <th>City_Category</th>\n",
       "      <th>Stay_In_Current_City_Years</th>\n",
       "      <th>Marital_Status</th>\n",
       "      <th>Product_Category_1</th>\n",
       "      <th>Product_Category_2</th>\n",
       "      <th>Product_Category_3</th>\n",
       "      <th>Purchase</th>\n",
       "    </tr>\n",
       "    <tr>\n",
       "      <th>Age</th>\n",
       "      <th></th>\n",
       "      <th></th>\n",
       "      <th></th>\n",
       "      <th></th>\n",
       "      <th></th>\n",
       "      <th></th>\n",
       "      <th></th>\n",
       "      <th></th>\n",
       "      <th></th>\n",
       "      <th></th>\n",
       "      <th></th>\n",
       "    </tr>\n",
       "  </thead>\n",
       "  <tbody>\n",
       "    <tr>\n",
       "      <th>0-17</th>\n",
       "      <td>14707</td>\n",
       "      <td>14707</td>\n",
       "      <td>14707</td>\n",
       "      <td>14707</td>\n",
       "      <td>14707</td>\n",
       "      <td>14707</td>\n",
       "      <td>14707</td>\n",
       "      <td>14707</td>\n",
       "      <td>14707</td>\n",
       "      <td>14707</td>\n",
       "      <td>14707</td>\n",
       "    </tr>\n",
       "    <tr>\n",
       "      <th>18-25</th>\n",
       "      <td>97634</td>\n",
       "      <td>97634</td>\n",
       "      <td>97634</td>\n",
       "      <td>97634</td>\n",
       "      <td>97634</td>\n",
       "      <td>97634</td>\n",
       "      <td>97634</td>\n",
       "      <td>97634</td>\n",
       "      <td>97634</td>\n",
       "      <td>97634</td>\n",
       "      <td>97634</td>\n",
       "    </tr>\n",
       "    <tr>\n",
       "      <th>26-35</th>\n",
       "      <td>214690</td>\n",
       "      <td>214690</td>\n",
       "      <td>214690</td>\n",
       "      <td>214690</td>\n",
       "      <td>214690</td>\n",
       "      <td>214690</td>\n",
       "      <td>214690</td>\n",
       "      <td>214690</td>\n",
       "      <td>214690</td>\n",
       "      <td>214690</td>\n",
       "      <td>214690</td>\n",
       "    </tr>\n",
       "    <tr>\n",
       "      <th>36-45</th>\n",
       "      <td>107499</td>\n",
       "      <td>107499</td>\n",
       "      <td>107499</td>\n",
       "      <td>107499</td>\n",
       "      <td>107499</td>\n",
       "      <td>107499</td>\n",
       "      <td>107499</td>\n",
       "      <td>107499</td>\n",
       "      <td>107499</td>\n",
       "      <td>107499</td>\n",
       "      <td>107499</td>\n",
       "    </tr>\n",
       "    <tr>\n",
       "      <th>46-50</th>\n",
       "      <td>44526</td>\n",
       "      <td>44526</td>\n",
       "      <td>44526</td>\n",
       "      <td>44526</td>\n",
       "      <td>44526</td>\n",
       "      <td>44526</td>\n",
       "      <td>44526</td>\n",
       "      <td>44526</td>\n",
       "      <td>44526</td>\n",
       "      <td>44526</td>\n",
       "      <td>44526</td>\n",
       "    </tr>\n",
       "    <tr>\n",
       "      <th>51-55</th>\n",
       "      <td>37618</td>\n",
       "      <td>37618</td>\n",
       "      <td>37618</td>\n",
       "      <td>37618</td>\n",
       "      <td>37618</td>\n",
       "      <td>37618</td>\n",
       "      <td>37618</td>\n",
       "      <td>37618</td>\n",
       "      <td>37618</td>\n",
       "      <td>37618</td>\n",
       "      <td>37618</td>\n",
       "    </tr>\n",
       "    <tr>\n",
       "      <th>55+</th>\n",
       "      <td>20903</td>\n",
       "      <td>20903</td>\n",
       "      <td>20903</td>\n",
       "      <td>20903</td>\n",
       "      <td>20903</td>\n",
       "      <td>20903</td>\n",
       "      <td>20903</td>\n",
       "      <td>20903</td>\n",
       "      <td>20903</td>\n",
       "      <td>20903</td>\n",
       "      <td>20903</td>\n",
       "    </tr>\n",
       "  </tbody>\n",
       "</table>\n",
       "</div>"
      ],
      "text/plain": [
       "       User_ID  Product_ID  Gender  Occupation  City_Category  \\\n",
       "Age                                                             \n",
       "0-17     14707       14707   14707       14707          14707   \n",
       "18-25    97634       97634   97634       97634          97634   \n",
       "26-35   214690      214690  214690      214690         214690   \n",
       "36-45   107499      107499  107499      107499         107499   \n",
       "46-50    44526       44526   44526       44526          44526   \n",
       "51-55    37618       37618   37618       37618          37618   \n",
       "55+      20903       20903   20903       20903          20903   \n",
       "\n",
       "       Stay_In_Current_City_Years  Marital_Status  Product_Category_1  \\\n",
       "Age                                                                     \n",
       "0-17                        14707           14707               14707   \n",
       "18-25                       97634           97634               97634   \n",
       "26-35                      214690          214690              214690   \n",
       "36-45                      107499          107499              107499   \n",
       "46-50                       44526           44526               44526   \n",
       "51-55                       37618           37618               37618   \n",
       "55+                         20903           20903               20903   \n",
       "\n",
       "       Product_Category_2  Product_Category_3  Purchase  \n",
       "Age                                                      \n",
       "0-17                14707               14707     14707  \n",
       "18-25               97634               97634     97634  \n",
       "26-35              214690              214690    214690  \n",
       "36-45              107499              107499    107499  \n",
       "46-50               44526               44526     44526  \n",
       "51-55               37618               37618     37618  \n",
       "55+                 20903               20903     20903  "
      ]
     },
     "execution_count": 29,
     "metadata": {},
     "output_type": "execute_result"
    }
   ],
   "source": [
    "bf.groupby(['Age']).count()"
   ]
  },
  {
   "cell_type": "code",
   "execution_count": 30,
   "metadata": {},
   "outputs": [
    {
     "data": {
      "text/plain": [
       "<matplotlib.axes._subplots.AxesSubplot at 0x6c331c8>"
      ]
     },
     "execution_count": 30,
     "metadata": {},
     "output_type": "execute_result"
    },
    {
     "data": {
      "image/png": "[encoded data removed]",
      "text/plain": [
       "<Figure size 432x288 with 1 Axes>"
      ]
     },
     "metadata": {
      "needs_background": "light"
     },
     "output_type": "display_data"
    }
   ],
   "source": [
    "bf_age = bf.groupby(['Age']).count()\n",
    "sns.barplot(x=bf_age.index,y=bf_age.Purchase)"
   ]
  },
  {
   "cell_type": "code",
   "execution_count": null,
   "metadata": {},
   "outputs": [],
   "source": [
    "# 可见购买的主要群体集中于18-45岁的青中年群体，呈类似正态分布的形式，其中26-35岁的青年团体贡献最大"
   ]
  },
  {
   "cell_type": "markdown",
   "metadata": {},
   "source": [
    "3.4 职业"
   ]
  },
  {
   "cell_type": "code",
   "execution_count": 31,
   "metadata": {},
   "outputs": [
    {
     "data": {
      "text/html": [
       "<div>\n",
       "<style scoped>\n",
       "    .dataframe tbody tr th:only-of-type {\n",
       "        vertical-align: middle;\n",
       "    }\n",
       "\n",
       "    .dataframe tbody tr th {\n",
       "        vertical-align: top;\n",
       "    }\n",
       "\n",
       "    .dataframe thead th {\n",
       "        text-align: right;\n",
       "    }\n",
       "</style>\n",
       "<table border=\"1\" class=\"dataframe\">\n",
       "  <thead>\n",
       "    <tr style=\"text-align: right;\">\n",
       "      <th></th>\n",
       "      <th>User_ID</th>\n",
       "      <th>Product_ID</th>\n",
       "      <th>Gender</th>\n",
       "      <th>Age</th>\n",
       "      <th>City_Category</th>\n",
       "      <th>Stay_In_Current_City_Years</th>\n",
       "      <th>Marital_Status</th>\n",
       "      <th>Product_Category_1</th>\n",
       "      <th>Product_Category_2</th>\n",
       "      <th>Product_Category_3</th>\n",
       "      <th>Purchase</th>\n",
       "    </tr>\n",
       "    <tr>\n",
       "      <th>Occupation</th>\n",
       "      <th></th>\n",
       "      <th></th>\n",
       "      <th></th>\n",
       "      <th></th>\n",
       "      <th></th>\n",
       "      <th></th>\n",
       "      <th></th>\n",
       "      <th></th>\n",
       "      <th></th>\n",
       "      <th></th>\n",
       "      <th></th>\n",
       "    </tr>\n",
       "  </thead>\n",
       "  <tbody>\n",
       "    <tr>\n",
       "      <th>0</th>\n",
       "      <td>68120</td>\n",
       "      <td>68120</td>\n",
       "      <td>68120</td>\n",
       "      <td>68120</td>\n",
       "      <td>68120</td>\n",
       "      <td>68120</td>\n",
       "      <td>68120</td>\n",
       "      <td>68120</td>\n",
       "      <td>68120</td>\n",
       "      <td>68120</td>\n",
       "      <td>68120</td>\n",
       "    </tr>\n",
       "    <tr>\n",
       "      <th>1</th>\n",
       "      <td>45971</td>\n",
       "      <td>45971</td>\n",
       "      <td>45971</td>\n",
       "      <td>45971</td>\n",
       "      <td>45971</td>\n",
       "      <td>45971</td>\n",
       "      <td>45971</td>\n",
       "      <td>45971</td>\n",
       "      <td>45971</td>\n",
       "      <td>45971</td>\n",
       "      <td>45971</td>\n",
       "    </tr>\n",
       "    <tr>\n",
       "      <th>2</th>\n",
       "      <td>25845</td>\n",
       "      <td>25845</td>\n",
       "      <td>25845</td>\n",
       "      <td>25845</td>\n",
       "      <td>25845</td>\n",
       "      <td>25845</td>\n",
       "      <td>25845</td>\n",
       "      <td>25845</td>\n",
       "      <td>25845</td>\n",
       "      <td>25845</td>\n",
       "      <td>25845</td>\n",
       "    </tr>\n",
       "    <tr>\n",
       "      <th>3</th>\n",
       "      <td>17366</td>\n",
       "      <td>17366</td>\n",
       "      <td>17366</td>\n",
       "      <td>17366</td>\n",
       "      <td>17366</td>\n",
       "      <td>17366</td>\n",
       "      <td>17366</td>\n",
       "      <td>17366</td>\n",
       "      <td>17366</td>\n",
       "      <td>17366</td>\n",
       "      <td>17366</td>\n",
       "    </tr>\n",
       "    <tr>\n",
       "      <th>4</th>\n",
       "      <td>70862</td>\n",
       "      <td>70862</td>\n",
       "      <td>70862</td>\n",
       "      <td>70862</td>\n",
       "      <td>70862</td>\n",
       "      <td>70862</td>\n",
       "      <td>70862</td>\n",
       "      <td>70862</td>\n",
       "      <td>70862</td>\n",
       "      <td>70862</td>\n",
       "      <td>70862</td>\n",
       "    </tr>\n",
       "    <tr>\n",
       "      <th>5</th>\n",
       "      <td>11985</td>\n",
       "      <td>11985</td>\n",
       "      <td>11985</td>\n",
       "      <td>11985</td>\n",
       "      <td>11985</td>\n",
       "      <td>11985</td>\n",
       "      <td>11985</td>\n",
       "      <td>11985</td>\n",
       "      <td>11985</td>\n",
       "      <td>11985</td>\n",
       "      <td>11985</td>\n",
       "    </tr>\n",
       "    <tr>\n",
       "      <th>6</th>\n",
       "      <td>19822</td>\n",
       "      <td>19822</td>\n",
       "      <td>19822</td>\n",
       "      <td>19822</td>\n",
       "      <td>19822</td>\n",
       "      <td>19822</td>\n",
       "      <td>19822</td>\n",
       "      <td>19822</td>\n",
       "      <td>19822</td>\n",
       "      <td>19822</td>\n",
       "      <td>19822</td>\n",
       "    </tr>\n",
       "    <tr>\n",
       "      <th>7</th>\n",
       "      <td>57806</td>\n",
       "      <td>57806</td>\n",
       "      <td>57806</td>\n",
       "      <td>57806</td>\n",
       "      <td>57806</td>\n",
       "      <td>57806</td>\n",
       "      <td>57806</td>\n",
       "      <td>57806</td>\n",
       "      <td>57806</td>\n",
       "      <td>57806</td>\n",
       "      <td>57806</td>\n",
       "    </tr>\n",
       "    <tr>\n",
       "      <th>8</th>\n",
       "      <td>1524</td>\n",
       "      <td>1524</td>\n",
       "      <td>1524</td>\n",
       "      <td>1524</td>\n",
       "      <td>1524</td>\n",
       "      <td>1524</td>\n",
       "      <td>1524</td>\n",
       "      <td>1524</td>\n",
       "      <td>1524</td>\n",
       "      <td>1524</td>\n",
       "      <td>1524</td>\n",
       "    </tr>\n",
       "    <tr>\n",
       "      <th>9</th>\n",
       "      <td>6153</td>\n",
       "      <td>6153</td>\n",
       "      <td>6153</td>\n",
       "      <td>6153</td>\n",
       "      <td>6153</td>\n",
       "      <td>6153</td>\n",
       "      <td>6153</td>\n",
       "      <td>6153</td>\n",
       "      <td>6153</td>\n",
       "      <td>6153</td>\n",
       "      <td>6153</td>\n",
       "    </tr>\n",
       "    <tr>\n",
       "      <th>10</th>\n",
       "      <td>12623</td>\n",
       "      <td>12623</td>\n",
       "      <td>12623</td>\n",
       "      <td>12623</td>\n",
       "      <td>12623</td>\n",
       "      <td>12623</td>\n",
       "      <td>12623</td>\n",
       "      <td>12623</td>\n",
       "      <td>12623</td>\n",
       "      <td>12623</td>\n",
       "      <td>12623</td>\n",
       "    </tr>\n",
       "    <tr>\n",
       "      <th>11</th>\n",
       "      <td>11338</td>\n",
       "      <td>11338</td>\n",
       "      <td>11338</td>\n",
       "      <td>11338</td>\n",
       "      <td>11338</td>\n",
       "      <td>11338</td>\n",
       "      <td>11338</td>\n",
       "      <td>11338</td>\n",
       "      <td>11338</td>\n",
       "      <td>11338</td>\n",
       "      <td>11338</td>\n",
       "    </tr>\n",
       "    <tr>\n",
       "      <th>12</th>\n",
       "      <td>30423</td>\n",
       "      <td>30423</td>\n",
       "      <td>30423</td>\n",
       "      <td>30423</td>\n",
       "      <td>30423</td>\n",
       "      <td>30423</td>\n",
       "      <td>30423</td>\n",
       "      <td>30423</td>\n",
       "      <td>30423</td>\n",
       "      <td>30423</td>\n",
       "      <td>30423</td>\n",
       "    </tr>\n",
       "    <tr>\n",
       "      <th>13</th>\n",
       "      <td>7548</td>\n",
       "      <td>7548</td>\n",
       "      <td>7548</td>\n",
       "      <td>7548</td>\n",
       "      <td>7548</td>\n",
       "      <td>7548</td>\n",
       "      <td>7548</td>\n",
       "      <td>7548</td>\n",
       "      <td>7548</td>\n",
       "      <td>7548</td>\n",
       "      <td>7548</td>\n",
       "    </tr>\n",
       "    <tr>\n",
       "      <th>14</th>\n",
       "      <td>26712</td>\n",
       "      <td>26712</td>\n",
       "      <td>26712</td>\n",
       "      <td>26712</td>\n",
       "      <td>26712</td>\n",
       "      <td>26712</td>\n",
       "      <td>26712</td>\n",
       "      <td>26712</td>\n",
       "      <td>26712</td>\n",
       "      <td>26712</td>\n",
       "      <td>26712</td>\n",
       "    </tr>\n",
       "    <tr>\n",
       "      <th>15</th>\n",
       "      <td>11812</td>\n",
       "      <td>11812</td>\n",
       "      <td>11812</td>\n",
       "      <td>11812</td>\n",
       "      <td>11812</td>\n",
       "      <td>11812</td>\n",
       "      <td>11812</td>\n",
       "      <td>11812</td>\n",
       "      <td>11812</td>\n",
       "      <td>11812</td>\n",
       "      <td>11812</td>\n",
       "    </tr>\n",
       "    <tr>\n",
       "      <th>16</th>\n",
       "      <td>24790</td>\n",
       "      <td>24790</td>\n",
       "      <td>24790</td>\n",
       "      <td>24790</td>\n",
       "      <td>24790</td>\n",
       "      <td>24790</td>\n",
       "      <td>24790</td>\n",
       "      <td>24790</td>\n",
       "      <td>24790</td>\n",
       "      <td>24790</td>\n",
       "      <td>24790</td>\n",
       "    </tr>\n",
       "    <tr>\n",
       "      <th>17</th>\n",
       "      <td>39090</td>\n",
       "      <td>39090</td>\n",
       "      <td>39090</td>\n",
       "      <td>39090</td>\n",
       "      <td>39090</td>\n",
       "      <td>39090</td>\n",
       "      <td>39090</td>\n",
       "      <td>39090</td>\n",
       "      <td>39090</td>\n",
       "      <td>39090</td>\n",
       "      <td>39090</td>\n",
       "    </tr>\n",
       "    <tr>\n",
       "      <th>18</th>\n",
       "      <td>6525</td>\n",
       "      <td>6525</td>\n",
       "      <td>6525</td>\n",
       "      <td>6525</td>\n",
       "      <td>6525</td>\n",
       "      <td>6525</td>\n",
       "      <td>6525</td>\n",
       "      <td>6525</td>\n",
       "      <td>6525</td>\n",
       "      <td>6525</td>\n",
       "      <td>6525</td>\n",
       "    </tr>\n",
       "    <tr>\n",
       "      <th>19</th>\n",
       "      <td>8352</td>\n",
       "      <td>8352</td>\n",
       "      <td>8352</td>\n",
       "      <td>8352</td>\n",
       "      <td>8352</td>\n",
       "      <td>8352</td>\n",
       "      <td>8352</td>\n",
       "      <td>8352</td>\n",
       "      <td>8352</td>\n",
       "      <td>8352</td>\n",
       "      <td>8352</td>\n",
       "    </tr>\n",
       "    <tr>\n",
       "      <th>20</th>\n",
       "      <td>32910</td>\n",
       "      <td>32910</td>\n",
       "      <td>32910</td>\n",
       "      <td>32910</td>\n",
       "      <td>32910</td>\n",
       "      <td>32910</td>\n",
       "      <td>32910</td>\n",
       "      <td>32910</td>\n",
       "      <td>32910</td>\n",
       "      <td>32910</td>\n",
       "      <td>32910</td>\n",
       "    </tr>\n",
       "  </tbody>\n",
       "</table>\n",
       "</div>"
      ],
      "text/plain": [
       "            User_ID  Product_ID  Gender    Age  City_Category  \\\n",
       "Occupation                                                      \n",
       "0             68120       68120   68120  68120          68120   \n",
       "1             45971       45971   45971  45971          45971   \n",
       "2             25845       25845   25845  25845          25845   \n",
       "3             17366       17366   17366  17366          17366   \n",
       "4             70862       70862   70862  70862          70862   \n",
       "5             11985       11985   11985  11985          11985   \n",
       "6             19822       19822   19822  19822          19822   \n",
       "7             57806       57806   57806  57806          57806   \n",
       "8              1524        1524    1524   1524           1524   \n",
       "9              6153        6153    6153   6153           6153   \n",
       "10            12623       12623   12623  12623          12623   \n",
       "11            11338       11338   11338  11338          11338   \n",
       "12            30423       30423   30423  30423          30423   \n",
       "13             7548        7548    7548   7548           7548   \n",
       "14            26712       26712   26712  26712          26712   \n",
       "15            11812       11812   11812  11812          11812   \n",
       "16            24790       24790   24790  24790          24790   \n",
       "17            39090       39090   39090  39090          39090   \n",
       "18             6525        6525    6525   6525           6525   \n",
       "19             8352        8352    8352   8352           8352   \n",
       "20            32910       32910   32910  32910          32910   \n",
       "\n",
       "            Stay_In_Current_City_Years  Marital_Status  Product_Category_1  \\\n",
       "Occupation                                                                   \n",
       "0                                68120           68120               68120   \n",
       "1                                45971           45971               45971   \n",
       "2                                25845           25845               25845   \n",
       "3                                17366           17366               17366   \n",
       "4                                70862           70862               70862   \n",
       "5                                11985           11985               11985   \n",
       "6                                19822           19822               19822   \n",
       "7                                57806           57806               57806   \n",
       "8                                 1524            1524                1524   \n",
       "9                                 6153            6153                6153   \n",
       "10                               12623           12623               12623   \n",
       "11                               11338           11338               11338   \n",
       "12                               30423           30423               30423   \n",
       "13                                7548            7548                7548   \n",
       "14                               26712           26712               26712   \n",
       "15                               11812           11812               11812   \n",
       "16                               24790           24790               24790   \n",
       "17                               39090           39090               39090   \n",
       "18                                6525            6525                6525   \n",
       "19                                8352            8352                8352   \n",
       "20                               32910           32910               32910   \n",
       "\n",
       "            Product_Category_2  Product_Category_3  Purchase  \n",
       "Occupation                                                    \n",
       "0                        68120               68120     68120  \n",
       "1                        45971               45971     45971  \n",
       "2                        25845               25845     25845  \n",
       "3                        17366               17366     17366  \n",
       "4                        70862               70862     70862  \n",
       "5                        11985               11985     11985  \n",
       "6                        19822               19822     19822  \n",
       "7                        57806               57806     57806  \n",
       "8                         1524                1524      1524  \n",
       "9                         6153                6153      6153  \n",
       "10                       12623               12623     12623  \n",
       "11                       11338               11338     11338  \n",
       "12                       30423               30423     30423  \n",
       "13                        7548                7548      7548  \n",
       "14                       26712               26712     26712  \n",
       "15                       11812               11812     11812  \n",
       "16                       24790               24790     24790  \n",
       "17                       39090               39090     39090  \n",
       "18                        6525                6525      6525  \n",
       "19                        8352                8352      8352  \n",
       "20                       32910               32910     32910  "
      ]
     },
     "execution_count": 31,
     "metadata": {},
     "output_type": "execute_result"
    }
   ],
   "source": [
    "## 初步探索数据\n",
    "# 哪些人群更可能在黑色星期五购买更多?\n",
    "#Q3 职业 pie\n",
    "bf.groupby(['Occupation']).count()"
   ]
  },
  {
   "cell_type": "code",
   "execution_count": 33,
   "metadata": {},
   "outputs": [
    {
     "data": {
      "text/plain": [
       "<matplotlib.axes._subplots.AxesSubplot at 0xc7bb448>"
      ]
     },
     "execution_count": 33,
     "metadata": {},
     "output_type": "execute_result"
    },
    {
     "data": {
      "image/png": "[encoded data removed]",
      "text/plain": [
       "<Figure size 432x288 with 1 Axes>"
      ]
     },
     "metadata": {
      "needs_background": "light"
     },
     "output_type": "display_data"
    }
   ],
   "source": [
    "bf_Occ = bf.groupby(['Occupation']).count()\n",
    "sns.barplot(x=bf_Occ.index,y=bf_Occ.Purchase)"
   ]
  },
  {
   "cell_type": "code",
   "execution_count": null,
   "metadata": {},
   "outputs": [],
   "source": [
    "#可见，从事职业代号0，4，7的群体购买次数更多，且8，13，18三者最少"
   ]
  },
  {
   "cell_type": "code",
   "execution_count": 34,
   "metadata": {},
   "outputs": [
    {
     "data": {
      "text/plain": [
       "<matplotlib.axes._subplots.AxesSubplot at 0xc895648>"
      ]
     },
     "execution_count": 34,
     "metadata": {},
     "output_type": "execute_result"
    },
    {
     "data": {
      "image/png": "[encoded data removed]",
      "text/plain": [
       "<Figure size 432x288 with 1 Axes>"
      ]
     },
     "metadata": {
      "needs_background": "light"
     },
     "output_type": "display_data"
    }
   ],
   "source": [
    "# 3.5 居住时间\n",
    "## 初步探索数据\n",
    "# 哪些人群更可能在黑色星期五购买更多?\n",
    "#Q5 居住时间：新居民或老居民  bar\n",
    "bf_Occ = bf.groupby(['Stay_In_Current_City_Years']).count()\n",
    "sns.barplot(x=bf_Occ.index,y=bf_Occ.Purchase)"
   ]
  },
  {
   "cell_type": "code",
   "execution_count": null,
   "metadata": {},
   "outputs": [],
   "source": [
    "# 可见，居住一年的群体购买次数更多，其余的居住时间购买次数较相近"
   ]
  },
  {
   "cell_type": "markdown",
   "metadata": {},
   "source": [
    "# 4.二次探索数据"
   ]
  },
  {
   "cell_type": "code",
   "execution_count": 35,
   "metadata": {},
   "outputs": [],
   "source": [
    "## 二次探索数据\n",
    "# 哪种产品在黑色星期五更畅销?（top 10）\n",
    "# 随着年龄的上升，各类型的产品呈怎样的趋势\n",
    "# 随着居住时间的上升，各类型的产品呈怎样的趋势\n",
    "# 哪种类型的产品对于男性和女性（未婚、已婚）来说，需求量更大?\n",
    "# 不同城市对不同产品的需求"
   ]
  },
  {
   "cell_type": "markdown",
   "metadata": {},
   "source": [
    "# 4.1 畅销产品"
   ]
  },
  {
   "cell_type": "code",
   "execution_count": 36,
   "metadata": {},
   "outputs": [
    {
     "data": {
      "text/plain": [
       "Product_ID\n",
       "P00000142    12592163\n",
       "P00000242     3914901\n",
       "P00000342     1261383\n",
       "P00000442      441173\n",
       "P00000542      791219\n",
       "               ...   \n",
       "P0099442      2813314\n",
       "P0099642        83710\n",
       "P0099742       967072\n",
       "P0099842       721334\n",
       "P0099942        70843\n",
       "Name: Purchase, Length: 3623, dtype: int64"
      ]
     },
     "execution_count": 36,
     "metadata": {},
     "output_type": "execute_result"
    }
   ],
   "source": [
    "bf.groupby('Product_ID')['Purchase'].sum()"
   ]
  },
  {
   "cell_type": "code",
   "execution_count": 37,
   "metadata": {},
   "outputs": [
    {
     "data": {
      "text/plain": [
       "Product_ID\n",
       "P00025442    27532426\n",
       "P00110742    26382569\n",
       "P00255842    24652442\n",
       "P00184942    24060871\n",
       "P00059442    23948299\n",
       "P00112142    23882624\n",
       "P00110942    23232538\n",
       "P00237542    23096487\n",
       "P00057642    22493690\n",
       "P00010742    21865042\n",
       "Name: Purchase, dtype: int64"
      ]
     },
     "execution_count": 37,
     "metadata": {},
     "output_type": "execute_result"
    }
   ],
   "source": [
    "bf.groupby('Product_ID')['Purchase'].sum().nlargest(10)"
   ]
  },
  {
   "cell_type": "code",
   "execution_count": 38,
   "metadata": {},
   "outputs": [
    {
     "data": {
      "text/plain": [
       "Product_ID\n",
       "P00010742    21865042\n",
       "P00057642    22493690\n",
       "P00237542    23096487\n",
       "P00110942    23232538\n",
       "P00112142    23882624\n",
       "P00059442    23948299\n",
       "P00184942    24060871\n",
       "P00255842    24652442\n",
       "P00110742    26382569\n",
       "P00025442    27532426\n",
       "Name: Purchase, dtype: int64"
      ]
     },
     "execution_count": 38,
     "metadata": {},
     "output_type": "execute_result"
    }
   ],
   "source": [
    "bf.groupby('Product_ID')['Purchase'].sum().nlargest(10).sort_values()"
   ]
  },
  {
   "cell_type": "code",
   "execution_count": 40,
   "metadata": {},
   "outputs": [
    {
     "data": {
      "text/plain": [
       "<matplotlib.axes._subplots.AxesSubplot at 0xc9e5e88>"
      ]
     },
     "execution_count": 40,
     "metadata": {},
     "output_type": "execute_result"
    },
    {
     "data": {
      "image/png": "[encoded data removed]",
      "text/plain": [
       "<Figure size 864x504 with 1 Axes>"
      ]
     },
     "metadata": {
      "needs_background": "light"
     },
     "output_type": "display_data"
    }
   ],
   "source": [
    "# 哪种产品在黑色星期五更畅销?（top 10）\n",
    "fig1, ax1 = plt.subplots(figsize=(12,7))\n",
    "bf_PID_top10 = bf.groupby('Product_ID')['Purchase'].sum().nlargest(10).sort_values()\n",
    "sns.barplot(x=bf_PID_top10.index,y=bf_PID_top10.values)"
   ]
  },
  {
   "cell_type": "code",
   "execution_count": 42,
   "metadata": {},
   "outputs": [
    {
     "data": {
      "text/plain": [
       "<matplotlib.axes._subplots.AxesSubplot at 0xcd67c88>"
      ]
     },
     "execution_count": 42,
     "metadata": {},
     "output_type": "execute_result"
    },
    {
     "data": {
      "image/png": "[encoded data removed]",
      "text/plain": [
       "<Figure size 648x432 with 1 Axes>"
      ]
     },
     "metadata": {
      "needs_background": "light"
     },
     "output_type": "display_data"
    }
   ],
   "source": [
    "plt.figure(figsize=(9,6))\n",
    "sns.barplot(x=bf_PID_top10.values,y=bf_PID_top10.index)"
   ]
  },
  {
   "cell_type": "markdown",
   "metadata": {},
   "source": [
    "# 4.2 年龄与产品类型"
   ]
  },
  {
   "cell_type": "code",
   "execution_count": null,
   "metadata": {},
   "outputs": [],
   "source": [
    "## 二次探索数据\n",
    "##不同人群对不同产品的购买情况\n",
    "# 随着年龄的上升，各类型的产品呈怎样的趋势"
   ]
  },
  {
   "cell_type": "code",
   "execution_count": 43,
   "metadata": {},
   "outputs": [
    {
     "data": {
      "text/plain": [
       "Age\n",
       "0-17      132659006\n",
       "18-25     901669280\n",
       "26-35    1999749106\n",
       "36-45    1010649565\n",
       "46-50     413418223\n",
       "51-55     361908356\n",
       "55+       197614842\n",
       "Name: Purchase, dtype: int64"
      ]
     },
     "execution_count": 43,
     "metadata": {},
     "output_type": "execute_result"
    }
   ],
   "source": [
    "bf.groupby(['Age'])['Purchase'].sum()"
   ]
  },
  {
   "cell_type": "code",
   "execution_count": 44,
   "metadata": {},
   "outputs": [
    {
     "data": {
      "text/plain": [
       "Age\n",
       "0-17      101198786\n",
       "18-25     684509923\n",
       "26-35    1487693857\n",
       "36-45     750195166\n",
       "46-50     302667821\n",
       "51-55     265097272\n",
       "55+       141205619\n",
       "Name: Purchase, dtype: int64"
      ]
     },
     "execution_count": 44,
     "metadata": {},
     "output_type": "execute_result"
    }
   ],
   "source": [
    "bf_P2=bf[bf[\"Product_Category_2\"]>0]\n",
    "bf_P2.groupby(['Age'])['Purchase'].sum()"
   ]
  },
  {
   "cell_type": "code",
   "execution_count": 45,
   "metadata": {},
   "outputs": [
    {
     "data": {
      "text/plain": [
       "Age\n",
       "0-17      53489797\n",
       "18-25    357755683\n",
       "26-35    765778036\n",
       "36-45    384322562\n",
       "46-50    153195133\n",
       "51-55    132652295\n",
       "55+       68452529\n",
       "Name: Purchase, dtype: int64"
      ]
     },
     "execution_count": 45,
     "metadata": {},
     "output_type": "execute_result"
    }
   ],
   "source": [
    "bf_P3=bf[bf[\"Product_Category_3\"]>0]\n",
    "bf_P3.groupby(['Age'])['Purchase'].sum()"
   ]
  },
  {
   "cell_type": "code",
   "execution_count": 46,
   "metadata": {},
   "outputs": [
    {
     "data": {
      "text/plain": [
       "Age\n",
       "0-17      132659006\n",
       "18-25     901669280\n",
       "26-35    1999749106\n",
       "36-45    1010649565\n",
       "46-50     413418223\n",
       "51-55     361908356\n",
       "55+       197614842\n",
       "Name: Purchase, dtype: int64"
      ]
     },
     "execution_count": 46,
     "metadata": {},
     "output_type": "execute_result"
    }
   ],
   "source": [
    "bf_P1=bf[bf[\"Product_Category_1\"]>0]\n",
    "bf_P1.groupby(['Age'])['Purchase'].sum()"
   ]
  },
  {
   "cell_type": "code",
   "execution_count": 48,
   "metadata": {},
   "outputs": [],
   "source": [
    "bf_P1=bf[bf[\"Product_Category_1\"]>0]\n",
    "bf_P1=bf_P1.groupby(['Age'])['Purchase'].sum()\n",
    "bf_P2=bf[bf[\"Product_Category_2\"]>0]\n",
    "bf_P2=bf_P2.groupby(['Age'])['Purchase'].sum()\n",
    "bf_P3=bf[bf[\"Product_Category_3\"]>0]\n",
    "bf_P3=bf_P3.groupby(['Age'])['Purchase'].sum()"
   ]
  },
  {
   "cell_type": "code",
   "execution_count": 49,
   "metadata": {},
   "outputs": [
    {
     "name": "stderr",
     "output_type": "stream",
     "text": [
      "No handles with labels found to put in legend.\n"
     ]
    },
    {
     "data": {
      "text/plain": [
       "<matplotlib.legend.Legend at 0xce2be48>"
      ]
     },
     "execution_count": 49,
     "metadata": {},
     "output_type": "execute_result"
    },
    {
     "data": {
      "image/png": "[encoded data removed]",
      "text/plain": [
       "<Figure size 648x432 with 1 Axes>"
      ]
     },
     "metadata": {
      "needs_background": "light"
     },
     "output_type": "display_data"
    }
   ],
   "source": [
    "fig=plt.figure(figsize=(9,6));\n",
    "ax=fig.add_subplot(1,1,1)\n",
    "ticks=ax.set_xticklabels(['0-17','18-25', '26-35','36-45','46-50','51-55','55+'])\n",
    "ax.set_title(\"Purchase Vs Age in Different Product_Categories\")\n",
    "ax.set_xlabel('Age')\n",
    "ax.legend(loc='best')\n",
    "ax.plot(bf_P1,marker='o')\n",
    "ax.plot(bf_P2,marker='*')\n",
    "ax.plot(bf_P3,marker='.')\n",
    "ax.legend(['Product_Category_1','Product_Category_2','Product_Category_3'])"
   ]
  },
  {
   "cell_type": "code",
   "execution_count": null,
   "metadata": {},
   "outputs": [],
   "source": [
    "#可见，在26岁前，随着年龄的上升，对三种产品类型的需求也上升；在35岁后，随着年龄的上升，对三种产品类型的需求也下降。\n",
    "#说明这三种类型的产品的销售对象是青中年人群"
   ]
  },
  {
   "cell_type": "code",
   "execution_count": null,
   "metadata": {},
   "outputs": [],
   "source": []
  }
 ],
 "metadata": {
  "kernelspec": {
   "display_name": "Python 3",
   "language": "python",
   "name": "python3"
  },
  "language_info": {
   "codemirror_mode": {
    "name": "ipython",
    "version": 3
   },
   "file_extension": ".py",
   "mimetype": "text/x-python",
   "name": "python",
   "nbconvert_exporter": "python",
   "pygments_lexer": "ipython3",
   "version": "3.7.6"
  }
 },
 "nbformat": 4,
 "nbformat_minor": 4
}
